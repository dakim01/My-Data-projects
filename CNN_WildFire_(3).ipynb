{
  "cells": [
    {
      "cell_type": "markdown",
      "metadata": {
        "id": "view-in-github",
        "colab_type": "text"
      },
      "source": [
        "<a href=\"https://colab.research.google.com/github/dakim01/My-Data-projects/blob/master/CNN_WildFire_(3).ipynb\" target=\"_parent\"><img src=\"https://colab.research.google.com/assets/colab-badge.svg\" alt=\"Open In Colab\"/></a>"
      ]
    },
    {
      "cell_type": "markdown",
      "metadata": {
        "id": "bXDLiPOCv-f4"
      },
      "source": [
        "# Wild Fire Image Detection From Satellite Images"
      ]
    },
    {
      "cell_type": "code",
      "execution_count": null,
      "metadata": {
        "colab": {
          "base_uri": "https://localhost:8080/"
        },
        "id": "to3nkPQWdPzO",
        "outputId": "0b115939-9f69-4ad1-8e7a-dad661d867fd"
      },
      "outputs": [
        {
          "name": "stdout",
          "output_type": "stream",
          "text": [
            "Drive already mounted at /content/drive; to attempt to forcibly remount, call drive.mount(\"/content/drive\", force_remount=True).\n"
          ]
        }
      ],
      "source": [
        "from google.colab import drive\n",
        "drive.mount('/content/drive')"
      ]
    },
    {
      "cell_type": "code",
      "execution_count": null,
      "metadata": {
        "colab": {
          "base_uri": "https://localhost:8080/"
        },
        "id": "8CR4CQnLiKl1",
        "outputId": "5006f31a-5671-4667-e606-7d3acaa2ab83"
      },
      "outputs": [
        {
          "name": "stdout",
          "output_type": "stream",
          "text": [
            "Looking in indexes: https://pypi.org/simple, https://us-python.pkg.dev/colab-wheels/public/simple/\n",
            "Requirement already satisfied: kaggle in /usr/local/lib/python3.10/dist-packages (1.5.13)\n",
            "Requirement already satisfied: six>=1.10 in /usr/local/lib/python3.10/dist-packages (from kaggle) (1.16.0)\n",
            "Requirement already satisfied: certifi in /usr/local/lib/python3.10/dist-packages (from kaggle) (2022.12.7)\n",
            "Requirement already satisfied: python-dateutil in /usr/local/lib/python3.10/dist-packages (from kaggle) (2.8.2)\n",
            "Requirement already satisfied: requests in /usr/local/lib/python3.10/dist-packages (from kaggle) (2.27.1)\n",
            "Requirement already satisfied: tqdm in /usr/local/lib/python3.10/dist-packages (from kaggle) (4.65.0)\n",
            "Requirement already satisfied: python-slugify in /usr/local/lib/python3.10/dist-packages (from kaggle) (8.0.1)\n",
            "Requirement already satisfied: urllib3 in /usr/local/lib/python3.10/dist-packages (from kaggle) (1.26.15)\n",
            "Requirement already satisfied: text-unidecode>=1.3 in /usr/local/lib/python3.10/dist-packages (from python-slugify->kaggle) (1.3)\n",
            "Requirement already satisfied: charset-normalizer~=2.0.0 in /usr/local/lib/python3.10/dist-packages (from requests->kaggle) (2.0.12)\n",
            "Requirement already satisfied: idna<4,>=2.5 in /usr/local/lib/python3.10/dist-packages (from requests->kaggle) (3.4)\n"
          ]
        }
      ],
      "source": [
        "! pip install kaggle"
      ]
    },
    {
      "cell_type": "code",
      "execution_count": null,
      "metadata": {
        "colab": {
          "base_uri": "https://localhost:8080/"
        },
        "id": "V0C_MroRinbR",
        "outputId": "c766dd94-e9a6-4cdf-f03f-cfe53e256ceb"
      },
      "outputs": [
        {
          "name": "stdout",
          "output_type": "stream",
          "text": [
            "mkdir: cannot create directory ‘/root/.kaggle’: File exists\n"
          ]
        }
      ],
      "source": [
        "! mkdir ~/.kaggle"
      ]
    },
    {
      "cell_type": "code",
      "execution_count": null,
      "metadata": {
        "id": "LFyiqNhkiof1"
      },
      "outputs": [],
      "source": [
        "!  cp kaggle.json ~/.kaggle/"
      ]
    },
    {
      "cell_type": "code",
      "execution_count": null,
      "metadata": {
        "id": "QUPn0vtyinYb"
      },
      "outputs": [],
      "source": [
        "!  chmod 600 ~/.kaggle/kaggle.json"
      ]
    },
    {
      "cell_type": "code",
      "execution_count": null,
      "metadata": {
        "colab": {
          "base_uri": "https://localhost:8080/"
        },
        "id": "pIdnZZaBj5hX",
        "outputId": "9a472d25-6993-4ff5-8c94-e208316aacf3"
      },
      "outputs": [
        {
          "name": "stdout",
          "output_type": "stream",
          "text": [
            "Downloading wildfire-prediction-dataset.zip to /content\n",
            "100% 1.44G/1.45G [00:13<00:00, 143MB/s]\n",
            "100% 1.45G/1.45G [00:13<00:00, 112MB/s]\n"
          ]
        }
      ],
      "source": [
        "! kaggle datasets download abdelghaniaaba/wildfire-prediction-dataset --force"
      ]
    },
    {
      "cell_type": "markdown",
      "metadata": {
        "id": "HAd1BRn1DnXa"
      },
      "source": [
        "# Loading Important libraries"
      ]
    },
    {
      "cell_type": "code",
      "execution_count": null,
      "metadata": {
        "id": "hTJxcYbav-f7"
      },
      "outputs": [],
      "source": [
        "from tensorflow.keras.layers import Dense,Conv2D,MaxPooling2D,Flatten,Dropout\n",
        "from tensorflow.keras.callbacks import EarlyStopping\n",
        "from tensorflow.keras.preprocessing.image import ImageDataGenerator\n",
        "from tensorflow.keras.utils import to_categorical\n",
        "from tensorflow.keras.models import Sequential\n",
        "import matplotlib.pyplot as plt\n",
        "import numpy as np"
      ]
    },
    {
      "cell_type": "code",
      "execution_count": null,
      "metadata": {
        "id": "ckV5GACfiBvF"
      },
      "outputs": [],
      "source": [
        "train_path = \"/content/train/train\"\n",
        "valid_path = \"/content/train/valid\"\n",
        "test_path = \"/content/train/test\""
      ]
    },
    {
      "cell_type": "markdown",
      "metadata": {
        "id": "E5S3-boWDnXe"
      },
      "source": [
        "# Loading Images In Batches"
      ]
    },
    {
      "cell_type": "code",
      "execution_count": null,
      "metadata": {
        "colab": {
          "base_uri": "https://localhost:8080/"
        },
        "id": "hBOpB58Gv-f8",
        "outputId": "afd42bd8-2b4e-4c55-fc7b-edd9ba7f75cc"
      },
      "outputs": [
        {
          "name": "stdout",
          "output_type": "stream",
          "text": [
            "Found 30250 images belonging to 2 classes.\n",
            "Found 6300 images belonging to 2 classes.\n",
            "Found 6300 images belonging to 2 classes.\n"
          ]
        }
      ],
      "source": [
        "image_shape = (350,350,3)\n",
        "N_CLASSES = 2\n",
        "BATCH_SIZE = 32\n",
        "category=['nowildfire','wildfire']\n",
        "# loading training data and rescaling it using ImageDataGenerator\n",
        "train_datagen = ImageDataGenerator(dtype='float32', rescale= 1./255.)\n",
        "train_generator = train_datagen.flow_from_directory(train_path,\n",
        "                                                   batch_size = BATCH_SIZE,\n",
        "                                                   target_size = (350,350),\n",
        "                                                   class_mode = 'categorical',\n",
        "                                                    shuffle=True)\n",
        "\n",
        "# loading validation data and rescaling it using ImageDataGenerator\n",
        "valid_datagen = ImageDataGenerator(dtype='float32', rescale= 1./255.)\n",
        "valid_generator = valid_datagen.flow_from_directory(valid_path,\n",
        "                                                   batch_size = BATCH_SIZE,\n",
        "                                                   target_size = (350,350),\n",
        "                                                   class_mode = 'categorical',\n",
        "                                                    shuffle=True)\n",
        "\n",
        "# loading test data and rescaling it using ImageDataGenerator\n",
        "test_datagen = ImageDataGenerator(dtype='float32', rescale = 1.0/255.0)\n",
        "test_generator = test_datagen.flow_from_directory(test_path,\n",
        "                                                   batch_size = BATCH_SIZE,\n",
        "                                                   target_size = (350,350),\n",
        "                                                   class_mode = 'categorical',\n",
        "                                                   shuffle=True)\n"
      ]
    },
    {
      "cell_type": "markdown",
      "metadata": {
        "id": "lWLqThodv-f9"
      },
      "source": [
        "## Image of WildeFire Vs NoWildFire In Train Data"
      ]
    },
    {
      "cell_type": "code",
      "execution_count": null,
      "metadata": {
        "colab": {
          "base_uri": "https://localhost:8080/",
          "height": 1000
        },
        "id": "oSLZhVIiv-f9",
        "outputId": "4c27d80c-71c5-4984-a8b9-f041c516046f"
      },
      "outputs": [],
      "source": [
        "image,label=test_generator.next()\n",
        "fig,ax=plt.subplots(6,6,figsize=(50,50))\n",
        "ax=ax.ravel()\n",
        "i=0\n",
        "for img,lbl in zip(image,label):\n",
        "    ax[i].imshow(img)\n",
        "    ax[i].set_title(category[np.argmax(lbl)],fontdict={'size':60})\n",
        "    i+=1"
      ]
    },
    {
      "cell_type": "markdown",
      "metadata": {
        "id": "MmKdcF6gDnXi"
      },
      "source": [
        "# Count of WildFire Vs NoWildfire"
      ]
    },
    {
      "cell_type": "code",
      "execution_count": null,
      "metadata": {
        "colab": {
          "base_uri": "https://localhost:8080/",
          "height": 713
        },
        "id": "m_bxpY5aq58i",
        "outputId": "deb03a6b-beba-45bf-8fff-d837522b6258"
      },
      "outputs": [
        {
          "data": {
            "image/png": "[encoded data removed]",
            "text/plain": [
              "<Figure size 800x800 with 1 Axes>"
            ]
          },
          "metadata": {},
          "output_type": "display_data"
        }
      ],
      "source": [
        "import seaborn as sns\n",
        "plt.figure(figsize=(8,8))\n",
        "sns.countplot(x=train_generator.classes)\n",
        "plt.ylabel(\"Count of Classes\",fontdict={'size':15})\n",
        "plt.xticks([0,1],['nowildfire','wildfire'],fontdict={'size':15})\n",
        "plt.title(\"Number Of Images Of Each Class In Train Dataset\",fontdict={'size':20})\n",
        "plt.show()"
      ]
    },
    {
      "cell_type": "markdown",
      "metadata": {
        "id": "wG-DaHuUv-f-"
      },
      "source": [
        "# Aggumemting Data"
      ]
    },
    {
      "cell_type": "code",
      "execution_count": null,
      "metadata": {
        "id": "giEtNANUv-f-"
      },
      "outputs": [],
      "source": [
        "# datagen = ImageDataGenerator(\n",
        "#         featurewise_center=False,  # set input mean to 0 over the dataset\n",
        "#         samplewise_center=False,  # set each sample mean to 0\n",
        "#         featurewise_std_normalization=False,  # divide inputs by std of the dataset\n",
        "#         samplewise_std_normalization=False,  # divide each input by its std\n",
        "#         zca_whitening=False,  # apply ZCA whitening\n",
        "#         rotation_range = 30,  # randomly rotate images in the range (degrees, 0 to 180)\n",
        "#         zoom_range = 0.2, # Randomly zoom image\n",
        "#         width_shift_range=0.1,  # randomly shift images horizontally (fraction of total width)\n",
        "#         height_shift_range=0.1,  # randomly shift images vertically (fraction of total height)\n",
        "#         horizontal_flip = True,  # randomly flip images\n",
        "#         vertical_flip=False)  # randomly flip images\n",
        "\n",
        "\n",
        "# datagen.fit(train_generator)"
      ]
    },
    {
      "cell_type": "markdown",
      "metadata": {
        "id": "2woqhmS5v-f_"
      },
      "source": [
        "# CNN Architecture"
      ]
    },
    {
      "cell_type": "code",
      "execution_count": null,
      "metadata": {
        "id": "YBzt-J1Cv-f_"
      },
      "outputs": [],
      "source": [
        "# model creation\n",
        "model = Sequential()\n",
        "model.add(Conv2D(32, (3, 3), activation='relu', input_shape=image_shape))\n",
        "model.add(MaxPooling2D((2, 2)))\n",
        "model.add(Conv2D(64, (3, 3), activation='relu'))\n",
        "model.add(MaxPooling2D((2, 2)))\n",
        "\n",
        "model.add(Conv2D(32, (3, 3), activation='relu', input_shape=image_shape))\n",
        "model.add(MaxPooling2D((2, 2)))\n",
        "model.add(Conv2D(64, (3, 3), activation='relu'))\n",
        "model.add(MaxPooling2D((2, 2)))\n",
        "\n",
        "model.add(Conv2D(128, (3, 3), activation='relu'))\n",
        "model.add(MaxPooling2D((2, 2)))\n",
        "\n",
        "model.add(Dropout(0.3))\n",
        "\n",
        "model.add(Flatten())\n",
        "model.add(Dense(128, activation='relu'))\n",
        "model.add(Dense(len(category), activation='softmax'))\n"
      ]
    },
    {
      "cell_type": "markdown",
      "metadata": {
        "id": "dZ8WgdE9v-f_"
      },
      "source": [
        "# Compiling Model And Getting Model Summary\n",
        " - <b>categorical_crossentrophy<b> as loss as it is multiclass classification and will return a array with probability of all classes.\n",
        " - <b>adam<b> is one of fameous optimizer .\n",
        " - <b>metric<b> here we are using accuracy for evaluation as metric."
      ]
    },
    {
      "cell_type": "code",
      "execution_count": null,
      "metadata": {
        "colab": {
          "base_uri": "https://localhost:8080/"
        },
        "id": "PKM62vPCv-f_",
        "outputId": "55057920-2f5a-485f-9220-9b0c70899dc3"
      },
      "outputs": [
        {
          "name": "stdout",
          "output_type": "stream",
          "text": [
            "Model: \"sequential_2\"\n",
            "_________________________________________________________________\n",
            " Layer (type)                Output Shape              Param #   \n",
            "=================================================================\n",
            " conv2d_10 (Conv2D)          (None, 348, 348, 32)      896       \n",
            "                                                                 \n",
            " max_pooling2d_10 (MaxPoolin  (None, 174, 174, 32)     0         \n",
            " g2D)                                                            \n",
            "                                                                 \n",
            " conv2d_11 (Conv2D)          (None, 172, 172, 64)      18496     \n",
            "                                                                 \n",
            " max_pooling2d_11 (MaxPoolin  (None, 86, 86, 64)       0         \n",
            " g2D)                                                            \n",
            "                                                                 \n",
            " conv2d_12 (Conv2D)          (None, 84, 84, 32)        18464     \n",
            "                                                                 \n",
            " max_pooling2d_12 (MaxPoolin  (None, 42, 42, 32)       0         \n",
            " g2D)                                                            \n",
            "                                                                 \n",
            " conv2d_13 (Conv2D)          (None, 40, 40, 64)        18496     \n",
            "                                                                 \n",
            " max_pooling2d_13 (MaxPoolin  (None, 20, 20, 64)       0         \n",
            " g2D)                                                            \n",
            "                                                                 \n",
            " conv2d_14 (Conv2D)          (None, 18, 18, 128)       73856     \n",
            "                                                                 \n",
            " max_pooling2d_14 (MaxPoolin  (None, 9, 9, 128)        0         \n",
            " g2D)                                                            \n",
            "                                                                 \n",
            " dropout (Dropout)           (None, 9, 9, 128)         0         \n",
            "                                                                 \n",
            " flatten (Flatten)           (None, 10368)             0         \n",
            "                                                                 \n",
            " dense (Dense)               (None, 128)               1327232   \n",
            "                                                                 \n",
            " dense_1 (Dense)             (None, 2)                 258       \n",
            "                                                                 \n",
            "=================================================================\n",
            "Total params: 1,457,698\n",
            "Trainable params: 1,457,698\n",
            "Non-trainable params: 0\n",
            "_________________________________________________________________\n"
          ]
        }
      ],
      "source": [
        "#compile model\n",
        "model.compile(\n",
        "loss='categorical_crossentropy',\n",
        "optimizer='adam',\n",
        "metrics=['accuracy'])\n",
        "\n",
        "#model summary\n",
        "\n",
        "model.summary()"
      ]
    },
    {
      "cell_type": "markdown",
      "metadata": {
        "id": "d-GzHOL8v-gA"
      },
      "source": [
        "# Training Model\n",
        "- <b>Epochs: <b>It refers to the one cycle of all training data through neural network.\n",
        "- <b>Batch_size: <b>It refers to the number of example after which weights should be modified.\n",
        "- <b>EarlyStopping: <b>It lets the model stop training if a given paramter is not changing here it is accuracy and patient means consecutive times the change is not occuring."
      ]
    },
    {
      "cell_type": "code",
      "execution_count": null,
      "metadata": {
        "colab": {
          "base_uri": "https://localhost:8080/"
        },
        "id": "2g31Iclsv-gA",
        "outputId": "d8a89d5b-253f-4fe5-8fde-9f0f340de7ba"
      },
      "outputs": [
        {
          "name": "stdout",
          "output_type": "stream",
          "text": [
            "Epoch 1/50\n",
            "946/946 [==============================] - 317s 320ms/step - loss: 0.2195 - accuracy: 0.9149 - val_loss: 0.1893 - val_accuracy: 0.9300\n",
            "Epoch 2/50\n",
            "946/946 [==============================] - 268s 283ms/step - loss: 0.1522 - accuracy: 0.9431 - val_loss: 0.1172 - val_accuracy: 0.9546\n",
            "Epoch 3/50\n",
            "946/946 [==============================] - 273s 289ms/step - loss: 0.1284 - accuracy: 0.9528 - val_loss: 0.1242 - val_accuracy: 0.9554\n",
            "Epoch 4/50\n",
            "946/946 [==============================] - 261s 276ms/step - loss: 0.1119 - accuracy: 0.9590 - val_loss: 0.1066 - val_accuracy: 0.9583\n",
            "Epoch 5/50\n",
            "946/946 [==============================] - 261s 276ms/step - loss: 0.1046 - accuracy: 0.9614 - val_loss: 0.1058 - val_accuracy: 0.9617\n",
            "Epoch 6/50\n",
            "946/946 [==============================] - 259s 274ms/step - loss: 0.0976 - accuracy: 0.9644 - val_loss: 0.0855 - val_accuracy: 0.9713\n",
            "Epoch 7/50\n",
            "946/946 [==============================] - 260s 275ms/step - loss: 0.0807 - accuracy: 0.9706 - val_loss: 0.0894 - val_accuracy: 0.9663\n",
            "Epoch 8/50\n",
            "946/946 [==============================] - 245s 259ms/step - loss: 0.0821 - accuracy: 0.9705 - val_loss: 0.0960 - val_accuracy: 0.9644\n",
            "Epoch 9/50\n",
            "946/946 [==============================] - 259s 274ms/step - loss: 0.0680 - accuracy: 0.9758 - val_loss: 0.0848 - val_accuracy: 0.9727\n",
            "Epoch 10/50\n",
            "946/946 [==============================] - 263s 278ms/step - loss: 0.0712 - accuracy: 0.9757 - val_loss: 0.1127 - val_accuracy: 0.9632\n",
            "Epoch 11/50\n",
            "946/946 [==============================] - 254s 269ms/step - loss: 0.0573 - accuracy: 0.9794 - val_loss: 0.1665 - val_accuracy: 0.9659\n",
            "Epoch 12/50\n",
            "946/946 [==============================] - 250s 264ms/step - loss: 0.0543 - accuracy: 0.9814 - val_loss: 0.1055 - val_accuracy: 0.9697\n",
            "Epoch 12: early stopping\n"
          ]
        }
      ],
      "source": [
        "# to train model\n",
        "from PIL import ImageFile\n",
        "ImageFile.LOAD_TRUNCATED_IMAGES = True\n",
        "\n",
        "EPOCHS=50\n",
        "\n",
        "callback=EarlyStopping(monitor='val_accuracy', mode='auto', verbose=1, patience=3)\n",
        "\n",
        "history=model.fit(train_generator,\n",
        "         validation_data=valid_generator,\n",
        "         callbacks=callback,\n",
        "         epochs=EPOCHS,\n",
        "         verbose=1)"
      ]
    },
    {
      "cell_type": "markdown",
      "metadata": {
        "id": "uXh4P077v-gA"
      },
      "source": [
        "# Observations:\n",
        "- We trained the model and got accuracy of 98.14% on training data and 96.97 on validation data."
      ]
    },
    {
      "cell_type": "markdown",
      "metadata": {
        "id": "nqT9WruSv-gA"
      },
      "source": [
        "# Show Loss and Accuracy Plots"
      ]
    },
    {
      "cell_type": "code",
      "execution_count": null,
      "metadata": {
        "colab": {
          "base_uri": "https://localhost:8080/",
          "height": 532
        },
        "id": "j399ea2wv-gA",
        "outputId": "7f96323b-6002-49db-ef73-e1a34a8ab653"
      },
      "outputs": [
        {
          "data": {
            "image/png": "[encoded data removed]",
            "text/plain": [
              "<Figure size 1400x700 with 2 Axes>"
            ]
          },
          "metadata": {},
          "output_type": "display_data"
        }
      ],
      "source": [
        "fig, ax = plt.subplots(2, 1,figsize=(14,7))\n",
        "\n",
        "ax[0].plot(history.history['loss'], color='b', label=\"Training Loss\")\n",
        "ax[0].plot(history.history['val_loss'], color='r', label=\"validation Loss\",axes=ax[0])\n",
        "legend = ax[0].legend(loc='best', shadow=True)\n",
        "\n",
        "ax[1].plot(history.history['accuracy'], color='b', label=\"Training Accuracy\")\n",
        "ax[1].plot(history.history['val_accuracy'], color='r', label=\"Validation Accuracy\")\n",
        "legend = ax[1].legend(loc='best', shadow=True)\n"
      ]
    },
    {
      "cell_type": "markdown",
      "metadata": {
        "id": "k8co6XGhv-gB"
      },
      "source": [
        "# Saving Trained Model"
      ]
    },
    {
      "cell_type": "code",
      "execution_count": null,
      "metadata": {
        "colab": {
          "base_uri": "https://localhost:8080/"
        },
        "id": "uuBpl9QPv-gB",
        "outputId": "ab885b2e-a4a8-46fa-d35a-5d1b1fe525da"
      },
      "outputs": [
        {
          "name": "stderr",
          "output_type": "stream",
          "text": [
            "WARNING:absl:Found untraced functions such as _jit_compiled_convolution_op, _jit_compiled_convolution_op, _jit_compiled_convolution_op, _jit_compiled_convolution_op, _jit_compiled_convolution_op while saving (showing 5 of 5). These functions will not be directly callable after loading.\n"
          ]
        }
      ],
      "source": [
        "from keras.models import save_model,load_model\n",
        "model.save(\"wildfire_detection_model\")"
      ]
    },
    {
      "cell_type": "markdown",
      "metadata": {
        "id": "gjEP43zjv-gB"
      },
      "source": [
        "# Saving Trained Weights"
      ]
    },
    {
      "cell_type": "code",
      "execution_count": null,
      "metadata": {
        "id": "ZbHU8oRAv-gB"
      },
      "outputs": [],
      "source": [
        "model.save_weights(\"wildfire_detection_model_weights.h5\")"
      ]
    },
    {
      "cell_type": "markdown",
      "metadata": {
        "id": "Gu7dSIcfv-gB"
      },
      "source": [
        "# Making predictions on the images"
      ]
    },
    {
      "cell_type": "code",
      "execution_count": null,
      "metadata": {
        "id": "wI3LtPTQv-gB"
      },
      "outputs": [],
      "source": [
        "from keras.models import model_from_json\n",
        "import numpy as np"
      ]
    },
    {
      "cell_type": "markdown",
      "metadata": {
        "id": "Epvpandqv-gC"
      },
      "source": [
        "# load an image file to test"
      ]
    },
    {
      "cell_type": "code",
      "execution_count": null,
      "metadata": {
        "id": "Z2Znkuyiv-gC"
      },
      "outputs": [],
      "source": [
        "\n",
        "from keras.utils import load_img,img_to_array\n",
        "\n"
      ]
    },
    {
      "cell_type": "markdown",
      "metadata": {
        "id": "m-MZQ5RYv-gC"
      },
      "source": [
        "# Loading Saved Model"
      ]
    },
    {
      "cell_type": "code",
      "execution_count": null,
      "metadata": {
        "id": "dYpBTNttv-gC"
      },
      "outputs": [],
      "source": [
        "model_loaded=load_model(\"wildfire_detection_model\")"
      ]
    },
    {
      "cell_type": "markdown",
      "metadata": {
        "id": "364fDGG0CaQT"
      },
      "source": [
        "# Accuracy on testing Data"
      ]
    },
    {
      "cell_type": "code",
      "execution_count": null,
      "metadata": {
        "colab": {
          "base_uri": "https://localhost:8080/"
        },
        "id": "8VMb6lzfCZYq",
        "outputId": "9b621ac4-7c3a-4928-ddf2-941468a2413f"
      },
      "outputs": [
        {
          "name": "stdout",
          "output_type": "stream",
          "text": [
            "197/197 [==============================] - 44s 220ms/step - loss: 0.0740 - accuracy: 0.9792\n"
          ]
        }
      ],
      "source": [
        "result = model.evaluate(test_generator)"
      ]
    },
    {
      "cell_type": "markdown",
      "metadata": {
        "id": "pOaNvnNTv-gC"
      },
      "source": [
        "# Creating Image Detctor\n",
        "- It will load image\n",
        "- Convert it to numpy array\n",
        "- Expand it's dimension\n",
        "- As it is a sparse matrix of result get result with highest probability using argmax\n",
        "- Also it return probability of prediction"
      ]
    },
    {
      "cell_type": "code",
      "execution_count": null,
      "metadata": {
        "id": "9CnjHyLIv-gC"
      },
      "outputs": [],
      "source": [
        "def image_predictor(img):\n",
        "    list_of_images= np.expand_dims(img,axis=0)\n",
        "    results= model_loaded.predict(list_of_images)\n",
        "    single_result= results[0]\n",
        "    most_likely_class_index= int(np.argmax(single_result))\n",
        "    class_likelihood= single_result[most_likely_class_index]\n",
        "    class_label= category[most_likely_class_index]\n",
        "    return class_likelihood,class_label"
      ]
    },
    {
      "cell_type": "code",
      "execution_count": null,
      "metadata": {
        "colab": {
          "base_uri": "https://localhost:8080/",
          "height": 1000
        },
        "id": "HWhfPAnov-gD",
        "outputId": "db8c235c-42a8-4542-b725-67badff693b2"
      },
      "outputs": [],
      "source": [
        "# Print the result\n",
        "image,label=test_generator.next()\n",
        "fig,ax=plt.subplots(3,3,figsize=(32,32))\n",
        "ax=ax.ravel()\n",
        "j=0\n",
        "for i,k in zip(image[:9,:,:,:],label[:9]):\n",
        "    class_likelihood,class_lable=image_predictor(i)\n",
        "    ax[j].imshow(i)\n",
        "    ax[j].set_title(f'Predicted: {class_lable} \\n Actual: {category[np.argmax(j)]} \\n Likelihood: {round(class_likelihood,2)}',fontdict={'size':30})\n",
        "    j+=1"
      ]
    }
  ],
  "metadata": {
    "accelerator": "GPU",
    "colab": {
      "gpuType": "T4",
      "provenance": [],
      "include_colab_link": true
    },
    "kernelspec": {
      "display_name": "Python 3",
      "name": "python3"
    },
    "language_info": {
      "codemirror_mode": {
        "name": "ipython",
        "version": 3
      },
      "file_extension": ".py",
      "mimetype": "text/x-python",
      "name": "python",
      "nbconvert_exporter": "python",
      "pygments_lexer": "ipython3",
      "version": "3.10.5"
    },
    "orig_nbformat": 4,
    "vscode": {
      "interpreter": {
        "hash": "52634da84371cba311ea128a5ea7cdc41ff074b781779e754b270ff9f8153cee"
      }
    }
  },
  "nbformat": 4,
  "nbformat_minor": 0
}